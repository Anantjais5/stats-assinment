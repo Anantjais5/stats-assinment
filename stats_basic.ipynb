{
  "nbformat": 4,
  "nbformat_minor": 0,
  "metadata": {
    "colab": {
      "provenance": [],
      "toc_visible": true
    },
    "kernelspec": {
      "name": "python3",
      "display_name": "Python 3"
    },
    "language_info": {
      "name": "python"
    }
  },
  "cells": [
    {
      "cell_type": "code",
      "execution_count": 13,
      "metadata": {
        "id": "B7OJGhJzBfyz"
      },
      "outputs": [],
      "source": []
    },
    {
      "cell_type": "markdown",
      "source": [
        "1. Explain the different types of data (qualitative and quantitative) and provide examples of each. Discuss\n",
        "nominal, ordinal, interval, and ratio scales."
      ],
      "metadata": {
        "id": "m2sogHNQHVzf"
      }
    },
    {
      "cell_type": "code",
      "source": [
        "\n",
        "#Qualitative data is descriptive, non-numeric data that represents qualities or characteristics. It provides insights into attributes, perceptions, and behaviors.\n",
        "\n",
        "#Ex\n",
        "\n",
        "#Color: Red, blue, green\n",
        "#Gender: Male, female\n",
        "#Brand: Apple, Samsung, Google\n",
        "\n",
        "\n",
        "#Quantitative data is numerical data that can be measured and counted. It represents quantities or amounts.\n",
        "\n",
        "#Ex\n",
        "\n",
        "#Age: 25, 30, 40\n",
        "#Height: 5ft, 6ft \"\n",
        "#Weight: 70kg, 80 kg\n",
        "#Income: 75k, 64k\n",
        "#Temperature: 40°C, 35°C\n",
        "\n",
        "#Scales of Measurement\n",
        "#Quantitative data can be further classified based on their scales of measurement:\n",
        "\n",
        "#Nominal Scale\n",
        "#Definition: Categorical data with no inherent order.\n",
        "#Ex\n",
        "#Gender (male, female)\n",
        "#Religion (Christian, Muslim, Hindu)\n",
        "#Marital status (married, single, divorced)\n",
        "\n",
        "#Ordinal Scale\n",
        "#Definition: Categorical data with a natural order or ranking.\n",
        "#Ex\n",
        "#Education level (high school, bachelor's, master's)\n",
        "#Ranking of preferences (1st, 2nd, 3rd)\n",
        "\n",
        "#Interval Scale\n",
        "#Definition: Numerical data with equal intervals between values but no true zero point.\n",
        "#Ex\n",
        "#Temperature (Celsius, Fahrenheit)\n",
        "\n",
        "#Ratio Scale\n",
        "#Definition: Numerical data with equal intervals between values and a true zero point (absence of the quantity).\n",
        "#Ex\n",
        "#Weight (kilograms, pounds)\n",
        "#Length (meters, feet)\n",
        "#Income (rupees)\n",
        "#Age (years)\n",
        "\n"
      ],
      "metadata": {
        "id": "-Vhp_QsnHWXd"
      },
      "execution_count": 14,
      "outputs": []
    },
    {
      "cell_type": "markdown",
      "source": [
        "2. What are the measures of central tendency, and when should you use each? Discuss the mean, median,\n",
        "and mode with examples and situations where each is appropriate."
      ],
      "metadata": {
        "id": "usyw0NB2Jjx2"
      }
    },
    {
      "cell_type": "code",
      "source": [
        "\n",
        "#Measures of central tendency are statistical values that represent the middle or typical value of a dataset.\n",
        "\n",
        "#Mean:The sum of all values divided by the number of values.\n",
        "#When the data is normally distributed and there are no extreme outliers.\n",
        "#ex:Calculate the average test scores of a class.\n",
        "#Median:The middle value in a dataset when the values are arranged in order.\n",
        "#When to use: When the data is skewed or has extreme outliers.\n",
        "#Ex: Determine the median income of a population to understand the middle-class income.\n",
        "#Mode: The most frequently occurring value in a dataset.\n",
        "#When you want to identify the most common category or value.\n",
        "#Ex:Find the most popular color of car sold in a dealership.\n",
        "\n",
        "\n",
        "#Choosing the appropriate measure of central tendency depends on the data distribution and the research question:\n",
        "\n",
        "#Symmetrical distribution: Mean is the best choice.\n",
        "#Skewed distribution: Median is often preferred as it is less affected by outliers.\n",
        "#Categorical data: Mode is used to identify the most common category.\n",
        "#Ex:\n",
        "\n",
        "#Consider a dataset of salaries for employees in a company:\n",
        "\n",
        "#Data: 30,000,35,000, 40,000, 45,000, 50,000, 200,000\n",
        "#Mean: (30,000 + 35,000 + 40,000 + 45,000 + 50,000 + 200,000) / 6 = $60,000\n",
        "#Median: Arrange in order: 30,000,35,000,40,000,45,000,50,000,200,000. Median = $42,500\n",
        "#Mode: No mode, as no value appears more frequently than others.\n",
        "#In this example, the median might be a better representation of the typical salary, as the mean is influenced by the outlier of $200,000."
      ],
      "metadata": {
        "id": "YDT-YM4cJgB-"
      },
      "execution_count": 15,
      "outputs": []
    },
    {
      "cell_type": "markdown",
      "source": [
        "3. Explain the concept of dispersion. How do variance and standard deviation measure the spread of data?"
      ],
      "metadata": {
        "id": "1Dy78tXlMWF7"
      }
    },
    {
      "cell_type": "code",
      "source": [
        "#Dispersion: Measuring the Spread of Data\n",
        "\n",
        "\n",
        "\n",
        "#Variance is a measure of how far the data points are from the mean, on average. It is calculated by summing the squared differences between each data point and the mean, and then dividing by the number of data points.\n",
        "#Variance = Σ(xi - x̄)² / n\n",
        "\n",
        "#xi is the ith data point\n",
        "#x̄ is the mean of the data\n",
        "#n is the number of data points\n",
        "\n",
        "\n",
        "#Interpretation:\n",
        "\n",
        "#A higher variance indicates that the data points are more spread out from the mean.\n",
        "#A lower variance indicates that the data points are clustered closer to the mean.\n",
        "\n",
        "\n",
        "#Standard deviation is the square root of the variance. It is a more commonly used measure of dispersion because it is in the same units as the original data.\n",
        "\n",
        "#Standard Deviation = √(Variance)\n",
        "\n",
        "#Interpretation:\n",
        "\n",
        "#A higher standard deviation indicates greater variability in the data.\n",
        "#A lower standard deviation indicates less variability in the data.\n",
        "#Ex\n",
        "#Consider two datasets:\n",
        "\n",
        "#Dataset A: 10, 12, 14, 16, 18\n",
        "#Dataset B: 8, 10, 12, 14, 16\n",
        "#Both datasets have the same mean (12). However, dataset B has a smaller variance and standard deviation, indicating that its data points are more clustered around the mean compared to dataset A."
      ],
      "metadata": {
        "id": "9l6wZ5ItLtVC"
      },
      "execution_count": 16,
      "outputs": []
    },
    {
      "cell_type": "markdown",
      "source": [
        "4. What is a box plot, and what can it tell you about the distribution of data?"
      ],
      "metadata": {
        "id": "22aDZV0rOC96"
      }
    },
    {
      "cell_type": "code",
      "source": [
        "#A box plot, also known as a box and whisker plot, is a graphical representation of the distribution of a dataset.\n",
        "#It provides a visual summary of five numb: minimum value, Q1 , median Q2 , Q3 , maximum value.\n",
        "\n",
        "#Box: The rectangle represents the IQR , which is the range between the first and third quartiles (Q3 - Q1). It contains the middle 50% of the data.\n",
        "#Median line: The line within the box represents the median (Q2), which is the middle value of the dataset.\n",
        "#Whiskers: The lines extending from the box to the minimum and maximum values are the whiskers. They can include outliers if they are outside a certain range.\n",
        "#Outliers: Individual data points that fall outside the whiskers are considered outliers and are plotted as individual points.1\n",
        "\n",
        "#Box can tell us about:\n",
        "#Distribution shape: The shape of the box and the whiskers can reveal the distribution of the data.\n",
        "#Central tendency: The median line indicates the central value of the dataset.\n",
        "#Spread: The length of the box and whiskers shows the spread of the data.\n",
        "#Outliers: outlier is a data point that differs significantly from other observations\n",
        "#Skewness: The asymmetry of the box and whiskers can indicate skewness in the data.\n"
      ],
      "metadata": {
        "id": "xJXCgkbcODbv"
      },
      "execution_count": 17,
      "outputs": []
    },
    {
      "cell_type": "code",
      "source": [],
      "metadata": {
        "id": "Yzq2XF5lQT62"
      },
      "execution_count": 17,
      "outputs": []
    },
    {
      "cell_type": "markdown",
      "source": [
        "5. Discuss the role of random sampling in making inferences about populations."
      ],
      "metadata": {
        "id": "5bRpXAOCQXmm"
      }
    },
    {
      "cell_type": "code",
      "source": [
        "#Random sampling plays a crucial role in making inferences about populations based on sample data.\n",
        "#It allows researchers to draw conclusions about a larger group (the population) by studying a smaller subset (the sample).\n",
        "\n",
        "#Inferential statistics uses sample data to make inferences or predictions about the population.\n",
        "#By analyzing the sample data, researchers can estimate population parameters such as the mean, proportion, or standard deviation."
      ],
      "metadata": {
        "id": "E9lgIBPGQYMu"
      },
      "execution_count": 18,
      "outputs": []
    },
    {
      "cell_type": "markdown",
      "source": [
        "6. Explain the concept of skewness and its types. How does skewness affect the interpretation of d"
      ],
      "metadata": {
        "id": "W7GVCd63RIdV"
      }
    },
    {
      "cell_type": "code",
      "source": [
        "#Skewness is a statistical measure that describes the asymmetry or lack of symmetry in a probability distribution.\n",
        "#it indicates whether the tail on one side of the distribution is longer than the other\n",
        "\n",
        "#There are two types of skewness:\n",
        "\n",
        "#Positive skew: The tail on the right side of the distribution is longer or fatter. The mean and median will be greater than the mode.\n",
        "#Negative skew: The tail on the left side of the distribution is longer or fatter. The mean and median will be less than the mode.\n",
        "\n",
        "\n",
        "#Skewness affects the interpretation of data because it can distort the location of the central tendency measures\n"
      ],
      "metadata": {
        "id": "m5pqkKJGREki"
      },
      "execution_count": 19,
      "outputs": []
    },
    {
      "cell_type": "markdown",
      "source": [
        "7. What is the interquartile range (IQR), and how is it used to detect outliers?"
      ],
      "metadata": {
        "id": "bwTDoQYgSSz4"
      }
    },
    {
      "cell_type": "code",
      "source": [
        "#The interquartile range (IQR) is a measure of statistical dispersion, which is the spread of the data.\n",
        "#It is calculated as the difference between(Q3) and (Q1).\n",
        "\n",
        "#The IQR can be used to detect outliers by identifying data points that fall outside of a certain range.\n",
        "#A common rule is to consider any data point that is more than 1.5 times the IQR below Q1 or above Q3 an outlier."
      ],
      "metadata": {
        "id": "A1j1j47-STTK"
      },
      "execution_count": 20,
      "outputs": []
    },
    {
      "cell_type": "code",
      "source": [],
      "metadata": {
        "id": "QqcxA3zpTNm_"
      },
      "execution_count": 20,
      "outputs": []
    },
    {
      "cell_type": "markdown",
      "source": [
        "8. Discuss the conditions under which the binomial distribution is used."
      ],
      "metadata": {
        "id": "wLNM2bHjTTo_"
      }
    },
    {
      "cell_type": "code",
      "source": [
        "#The binomial distribution is used when the following conditions are met:\n",
        "\n",
        "#There are a fixed number of trials.\n",
        "#Each trial is independent of the others.\n",
        "#There are only two possible outcomes for each trial, typically called \"success\" and \"failure\".\n",
        "#The probability of success is the same for each trial.\n"
      ],
      "metadata": {
        "id": "RIvJKrWkTUNE"
      },
      "execution_count": 21,
      "outputs": []
    },
    {
      "cell_type": "markdown",
      "source": [
        "9. Explain the properties of the normal distribution and the empirical rule (68-95-99.7 rule)."
      ],
      "metadata": {
        "id": "bn9d23S1Ttu8"
      }
    },
    {
      "cell_type": "code",
      "source": [
        "#The normal distribution is a continuous probability distribution that is symmetrical around its mean.\n",
        "#It is often called the bell curve because of its shape.\n",
        "\n",
        "#The empirical rule, also known as the 68-95-99.7 rule, is a statistical rule that states that for a normal distribution:\n",
        "\n",
        "#68% of the data falls within one standard deviation of the mean.\n",
        "#95% of the data falls within two standard deviations of the mean.\n",
        "#99.7% of the data falls within three standard deviations of the mean."
      ],
      "metadata": {
        "id": "-aaCMtzwToXF"
      },
      "execution_count": 22,
      "outputs": []
    },
    {
      "cell_type": "markdown",
      "source": [
        "10. Provide a real-life example of a Poisson process and calculate the probability for a specific event."
      ],
      "metadata": {
        "id": "4LDXm53xUobS"
      }
    },
    {
      "cell_type": "code",
      "source": [
        "#A real-life example of a Poisson process is the number of customers arriving at a store in an hour.\n",
        "\n",
        "#Let's say that the average number of customers arriving at a store in an hour is 10.\n",
        "# We can use the Poisson distribution to calculate the probability of a specific event, such as the probability of exactly 5 customers arriving in an hour.\n",
        "\n",
        "#The Poisson distribution formula is given by:\n",
        "\n",
        "#P(x) = (e^(-λ) * λ^x) / x!\n",
        "\n",
        "#In this case, λ = 10 and x = 5. Plugging these values into the formula, we get:\n",
        "\n",
        "#P(5) = (e^-10 * 10^5) / 5!\n",
        "#P(5) = 0.0378\n",
        "\n",
        "#Therefore, the probability of exactly 5 customers arriving in an hour is approximately 0.0378 or 3.78%."
      ],
      "metadata": {
        "id": "jUXed3wKUgpx"
      },
      "execution_count": 23,
      "outputs": []
    },
    {
      "cell_type": "code",
      "source": [],
      "metadata": {
        "id": "TJfer3OYVWrc"
      },
      "execution_count": 23,
      "outputs": []
    },
    {
      "cell_type": "markdown",
      "source": [
        "11. Explain what a random variable is and differentiate between discrete and continuous random variables."
      ],
      "metadata": {
        "id": "Hq9KfsayWGNv"
      }
    },
    {
      "cell_type": "code",
      "source": [
        "#A random variable is a variable whose value is a numerical outcome of a random phenomenon.\n",
        "\n",
        "#Discrete random variable: A variable whose value can only take on a finite number of values or a countably infinite number of values. These values can typically be integers, but the total number of values must be finite or countable.\n",
        "\n",
        "#Example: The number of heads when the coin is flipped four times: Notice that we can get a maximum of four heads (the values would be 0, 1, 2, 3, and 4) and the number of values the variable can take is finite (only 5 values).\n",
        "\n",
        "\n",
        "#Continuous random variable: A variable whose value can take on any value within a given range.\n",
        "\n",
        "#Example: The height of a student. Assume that the height of the students in a college is between 1.50 meters and 1.85 meters. The variable can take any value between these limits."
      ],
      "metadata": {
        "id": "CNYWtBuuWGuh"
      },
      "execution_count": 24,
      "outputs": []
    },
    {
      "cell_type": "markdown",
      "source": [
        "12. Provide an example dataset, calculate both covariance and correlation, and interpret the results."
      ],
      "metadata": {
        "id": "HqgyL5NmWZmq"
      }
    },
    {
      "cell_type": "code",
      "source": [
        "import numpy as np\n",
        "\n",
        "temperature = np.array([15, 20, 25, 30, 35])\n",
        "ice_cream_sales = np.array([200, 300, 400, 500, 600])\n",
        "\n",
        "covariance = np.cov(temperature, ice_cream_sales)[0, 1]\n",
        "\n",
        "print(f\"Covariance: {covariance}\")"
      ],
      "metadata": {
        "colab": {
          "base_uri": "https://localhost:8080/"
        },
        "id": "8TR64VgvWaEg",
        "outputId": "87616642-b65c-4e2a-c6f0-34489d55b2ba"
      },
      "execution_count": 25,
      "outputs": [
        {
          "output_type": "stream",
          "name": "stdout",
          "text": [
            "Covariance: 1250.0\n"
          ]
        }
      ]
    },
    {
      "cell_type": "code",
      "source": [
        "correlation = np.corrcoef(temperature, ice_cream_sales)[0, 1]\n",
        "\n",
        "print(f\"Correlation: {correlation}\")"
      ],
      "metadata": {
        "colab": {
          "base_uri": "https://localhost:8080/"
        },
        "id": "Emq4cbJ7WptK",
        "outputId": "3734b965-062f-43a1-b036-48854b016aab"
      },
      "execution_count": 26,
      "outputs": [
        {
          "output_type": "stream",
          "name": "stdout",
          "text": [
            "Correlation: 1.0\n"
          ]
        }
      ]
    },
    {
      "cell_type": "code",
      "source": [],
      "metadata": {
        "id": "a3qyih3CWtJY"
      },
      "execution_count": 26,
      "outputs": []
    }
  ]
}